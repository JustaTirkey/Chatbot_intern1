{
 "cells": [
  {
   "cell_type": "code",
   "execution_count": 3,
   "metadata": {},
   "outputs": [
    {
     "name": "stdout",
     "output_type": "stream",
     "text": [
      "Chatbot: Ok, goodbye! Have a nice day!\n"
     ]
    }
   ],
   "source": [
    "import random\n",
    "import re\n",
    "\n",
    "# Define conversation patterns with corresponding responses\n",
    "patterns = [\n",
    "    {\"pattern\": r\"hello|hi|hey\", \"responses\": [\"Hello!\", \"Hi there!\", \"Hey!\"]},\n",
    "    {\"pattern\": r\"yes|yup|yaa\", \"responses\": [\"How can I help you?\"]},\n",
    "    {\"pattern\": r\"internship|intern\", \"responses\": [\"This is a three-month unpaid internship provided by Nexus Software. It is for freshers to get firsthand industry experience.\"]},\n",
    "    {\"pattern\": r\"how are you\", \"responses\": [\"I'm doing well, thank you!\", \"I'm fine, how about you?\"]},\n",
    "    {\"pattern\": r\"I am fine.\", \"responses\": [\"Nice to hear that!!\", \"How nice is that!\", \"wow!! great\"]},\n",
    "    {\"pattern\": r\"what is your name\", \"responses\": [\"I'm a simple Chatbot.\", \"You can call me ChatBot.\"]},\n",
    "    {\"pattern\": r\"what do you do Chatboot?\", \"responses\": [\"I am here to help you.\"]},\n",
    "    {\"pattern\": r\"bye|goodbye\", \"responses\": [\"Goodbye!\", \"See you later!\", \"Bye!\"]},\n",
    "    {\"pattern\": r\"thankyou|thanks|okay thank you\", \"responses\": [\"Your welcome!\", \"No problem\", \"I am glad I could help!\"]},\n",
    "    {\"pattern\": r\"nexus\", \"responses\": [\"Nexus is a premier private software company dedicated to revolutionizing E-learning platforms. As leaders in the field, Nexus seamlessly combines innovative technology with a commitment to private learning, ensuring a dynamic and personalized educational experience for all.\"]}\n",
    "]\n",
    "\n",
    "class RuleBot:\n",
    "    # Potential negative responses\n",
    "    negative_response = (\"no\", \"nope\", \"nah\", \"sorry\", \"not\", \"nothing\", \"not yet\", \"never\")\n",
    "    \n",
    "    # Farewell commands\n",
    "    farewell = (\"Okay Bye\", \"exit\", \"finish\", \"Bye\", \"Have a nice day\", \"goodbye\", \"see you later\", \"quit\")\n",
    "    \n",
    "    # Random questions about Nexus\n",
    "    random_ans = (\n",
    "        \"Chatbot: Can I help you?\",\n",
    "        \"Chatbot: To know more about Nexus.\\n...... type nexus\",\n",
    "        \"Chatbot: You can ask your query\",\n",
    "    )\n",
    "\n",
    "    def greeting(self):\n",
    "        # Get user's name\n",
    "        self.name = input(\"Chatbot: How may I address you?\\n\" + \"You: \")\n",
    "        will_ask = input(f\"Chatbot: Hello!! {self.name}, I am ChatBot.\\n\" +  \"You: \")\n",
    "        if will_ask in self.negative_response:\n",
    "            print(\"Chatbot: Ok, goodbye! Have a nice day!\")\n",
    "            return\n",
    "        self.chat()\n",
    "\n",
    "    def fare_well(self, reply):\n",
    "        # Check if the user's reply is a farewell command\n",
    "        for command in self.farewell:\n",
    "            if reply == command:\n",
    "                print(\"Chatbot: Ok, goodbye! Have a nice day!\")\n",
    "                return True\n",
    "\n",
    "    def chat(self):\n",
    "        # Start the conversation loop\n",
    "        reply = input(random.choice(self.random_ans) + \"\\nYou: \").lower()\n",
    "        reply = self.match_reply(reply)\n",
    "        while not self.fare_well(reply):\n",
    "            reply = input(self.match_reply(reply) + \"\\nYou: \")\n",
    "\n",
    "    def match_reply(self, reply):\n",
    "        # Check user's input against defined patterns\n",
    "        for pattern in patterns:\n",
    "            if re.search(pattern[\"pattern\"], reply, re.IGNORECASE):\n",
    "                return \"Chatbot: \" + random.choice(pattern[\"responses\"])\n",
    "        return \"Chatbot: I'm sorry, I didn't understand that.\"\n",
    "\n",
    "# Create an instance of RuleBot and start the conversation\n",
    "Chatbot = RuleBot()\n",
    "Chatbot.greeting()\n"
   ]
  },
  {
   "cell_type": "code",
   "execution_count": null,
   "metadata": {},
   "outputs": [],
   "source": []
  }
 ],
 "metadata": {
  "colab": {
   "provenance": []
  },
  "kernelspec": {
   "display_name": "Python 3 (ipykernel)",
   "language": "python",
   "name": "python3"
  },
  "language_info": {
   "codemirror_mode": {
    "name": "ipython",
    "version": 3
   },
   "file_extension": ".py",
   "mimetype": "text/x-python",
   "name": "python",
   "nbconvert_exporter": "python",
   "pygments_lexer": "ipython3",
   "version": "3.7.1"
  }
 },
 "nbformat": 4,
 "nbformat_minor": 4
}
